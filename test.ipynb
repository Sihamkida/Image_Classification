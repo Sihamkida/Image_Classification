{
 "cells": [
  {
   "cell_type": "code",
   "execution_count": 1,
   "metadata": {},
   "outputs": [],
   "source": [
    "from dataset import Dataset\n",
    "from utils import DatasetCachingWrapper\n",
    "\n",
    "%load_ext autoreload\n",
    "%autoreload 2"
   ]
  },
  {
   "cell_type": "code",
   "execution_count": 2,
   "metadata": {},
   "outputs": [],
   "source": [
    "dataset_train = DatasetCachingWrapper(Dataset(base_directory='/home/jensnau/elite-vision/dataset'))"
   ]
  },
  {
   "cell_type": "code",
   "execution_count": 8,
   "metadata": {},
   "outputs": [
    {
     "data": {
      "text/plain": [
       "{'image_path': PosixPath('/home/jensnau/elite-vision/dataset/ALU_p40/WIN_20210805_19_56_28_Pro.jpg'),\n",
       " 'material': 'ALU',\n",
       " 'grain_size': '40',\n",
       " 'image': array([[[156, 159, 150],\n",
       "         [153, 155, 149],\n",
       "         [148, 151, 149],\n",
       "         ...,\n",
       "         [183, 168, 196],\n",
       "         [192, 162, 227],\n",
       "         [189, 153, 237]],\n",
       " \n",
       "        [[160, 163, 154],\n",
       "         [153, 157, 151],\n",
       "         [147, 150, 148],\n",
       "         ...,\n",
       "         [193, 175, 204],\n",
       "         [203, 173, 238],\n",
       "         [198, 162, 246]],\n",
       " \n",
       "        [[159, 164, 155],\n",
       "         [153, 157, 151],\n",
       "         [146, 149, 147],\n",
       "         ...,\n",
       "         [199, 179, 208],\n",
       "         [210, 178, 243],\n",
       "         [201, 162, 247]],\n",
       " \n",
       "        ...,\n",
       " \n",
       "        [[167, 168, 158],\n",
       "         [170, 171, 161],\n",
       "         [174, 175, 165],\n",
       "         ...,\n",
       "         [157, 151, 176],\n",
       "         [173, 152, 221],\n",
       "         [181, 153, 243]],\n",
       " \n",
       "        [[167, 171, 159],\n",
       "         [170, 174, 162],\n",
       "         [173, 177, 166],\n",
       "         ...,\n",
       "         [152, 148, 173],\n",
       "         [165, 146, 215],\n",
       "         [171, 144, 237]],\n",
       " \n",
       "        [[174, 179, 164],\n",
       "         [176, 181, 166],\n",
       "         [177, 181, 170],\n",
       "         ...,\n",
       "         [149, 146, 171],\n",
       "         [162, 142, 214],\n",
       "         [167, 140, 233]]], dtype=uint8)}"
      ]
     },
     "execution_count": 8,
     "metadata": {},
     "output_type": "execute_result"
    }
   ],
   "source": [
    "dataset_train[0]"
   ]
  },
  {
   "cell_type": "code",
   "execution_count": 6,
   "metadata": {},
   "outputs": [
    {
     "data": {
      "text/plain": [
       "(1200, 1600, 3)"
      ]
     },
     "execution_count": 6,
     "metadata": {},
     "output_type": "execute_result"
    }
   ],
   "source": [
    "dataset_train[0]['image'].shape"
   ]
  },
  {
   "cell_type": "code",
   "execution_count": 17,
   "metadata": {},
   "outputs": [
    {
     "data": {
      "text/plain": [
       "Dataset in CachingWrapper with 443 items."
      ]
     },
     "execution_count": 17,
     "metadata": {},
     "output_type": "execute_result"
    }
   ],
   "source": [
    "dataset_train"
   ]
  },
  {
   "cell_type": "code",
   "execution_count": null,
   "metadata": {},
   "outputs": [],
   "source": []
  }
 ],
 "metadata": {
  "kernelspec": {
   "display_name": "Python 3.8.13 ('DLVC')",
   "language": "python",
   "name": "python3"
  },
  "language_info": {
   "codemirror_mode": {
    "name": "ipython",
    "version": 3
   },
   "file_extension": ".py",
   "mimetype": "text/x-python",
   "name": "python",
   "nbconvert_exporter": "python",
   "pygments_lexer": "ipython3",
   "version": "3.8.13"
  },
  "orig_nbformat": 4,
  "vscode": {
   "interpreter": {
    "hash": "d05d5406fd9e65b8cec1a934232fb9faf3a0fca3877bdfa444f1bd6416e14e68"
   }
  }
 },
 "nbformat": 4,
 "nbformat_minor": 2
}
